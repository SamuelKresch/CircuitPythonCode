{
  "nbformat": 4,
  "nbformat_minor": 0,
  "metadata": {
    "colab": {
      "name": "Magnetometer Test",
      "provenance": [],
      "authorship_tag": "ABX9TyOnoV1zzylTYik6W48lij9S",
      "include_colab_link": true
    },
    "kernelspec": {
      "name": "python3",
      "display_name": "Python 3"
    },
    "language_info": {
      "name": "python"
    }
  },
  "cells": [
    {
      "cell_type": "markdown",
      "metadata": {
        "id": "view-in-github",
        "colab_type": "text"
      },
      "source": [
        "<a href=\"https://colab.research.google.com/github/SamuelKresch/CircuitPythonCode/blob/main/Magnetometer_Test.ipynb\" target=\"_parent\"><img src=\"https://colab.research.google.com/assets/colab-badge.svg\" alt=\"Open In Colab\"/></a>"
      ]
    },
    {
      "cell_type": "code",
      "execution_count": null,
      "metadata": {
        "id": "a1NTBc9IT3lc"
      },
      "outputs": [],
      "source": [
        "#Simple Test (checks that circuit is properly connected)\n",
        "\n",
        "import time\n",
        "import board\n",
        "import adafruit_tlv493d\n",
        "\n",
        "i2c = board.I2C()  # uses board.SCL and board.SDA\n",
        "tlv = adafruit_tlv493d.TLV493D(i2c)\n",
        "\n",
        "while True:\n",
        "    print(\"X: %s, Y: %s, Z: %s mT\" % tlv.magnetic)\n",
        "    time.sleep(1)"
      ]
    },
    {
      "cell_type": "code",
      "source": [
        "#Advanced Test (Record 3D Field)\n",
        "\n",
        "import time\n",
        "import board\n",
        "import adafruit_tlv493d\n",
        "\n",
        "i2c = board.I2C()  # uses board.SCL and board.SDA\n",
        "tlv = adafruit_tlv493d.TLV493D(i2c)\n",
        "\n"
      ],
      "metadata": {
        "id": "hlnZ1vevVF0y"
      },
      "execution_count": null,
      "outputs": []
    }
  ]
}